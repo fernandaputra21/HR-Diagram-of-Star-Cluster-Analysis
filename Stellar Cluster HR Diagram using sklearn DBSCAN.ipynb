{
 "cells": [
  {
   "cell_type": "markdown",
   "id": "910d4add",
   "metadata": {},
   "source": [
    "Disclaimer: The goal of this code is to study how to recreate H-R Diagram of a stellar cluster (in this case Pleiades) using DBSCAN clustering algorithm from sklearn. I'm sorry if the method is not so scientific.\n",
    "\n",
    "The data is downloaded from Gaia early data release 3 (Gaia Collaboration, 2020, Gaia EDR3, Version 1.0. https://doi.org/10.5270/esa-1ugzkg7). he data I'm using is downloaded from Gaia early data release 3 downloaded from https://gea.esac.esa.int/archive/"
   ]
  },
  {
   "cell_type": "code",
   "execution_count": 81,
   "id": "f928ac68",
   "metadata": {},
   "outputs": [],
   "source": [
    "import numpy as np\n",
    "import pandas as pd\n",
    "import matplotlib.pyplot as plt\n",
    "from sklearn.cluster import DBSCAN\n",
    "from sklearn.preprocessing import StandardScaler"
   ]
  },
  {
   "cell_type": "code",
   "execution_count": 82,
   "id": "66eb40c9",
   "metadata": {},
   "outputs": [],
   "source": [
    "# The data I'm using is downloaded from Gaia early data release 3 downloaded from https://gea.esac.esa.int/archive/\n",
    "filename = \"1628678882413O-result.csv\"\n",
    "data = pd.read_csv(filename,delimiter=\",\")"
   ]
  },
  {
   "cell_type": "code",
   "execution_count": 83,
   "id": "548f801e",
   "metadata": {},
   "outputs": [
    {
     "name": "stdout",
     "output_type": "stream",
     "text": [
      "Index(['source_id', 'ra', 'dec', 'parallax', 'parallax_error', 'pmra', 'pmdec',\n",
      "       'phot_g_mean_mag', 'bp_rp', 'bp_g', 'g_rp', 'dr2_radial_velocity',\n",
      "       'dr2_radial_velocity_error'],\n",
      "      dtype='object')\n"
     ]
    }
   ],
   "source": [
    "print(data.columns)"
   ]
  },
  {
   "cell_type": "code",
   "execution_count": 122,
   "id": "b022e4f9",
   "metadata": {},
   "outputs": [
    {
     "name": "stdout",
     "output_type": "stream",
     "text": [
      "Index(['ra', 'dec', 'pmra', 'pmdec', 'parallax', 'bp_rp', 'phot_g_mean_mag'], dtype='object')\n"
     ]
    }
   ],
   "source": [
    "# We will only use some of the columns for out new data\n",
    "\n",
    "sel_col = ['ra','dec', 'pmra', 'pmdec', 'parallax','bp_rp', 'phot_g_mean_mag'] # You can modify this to add or remove any column you don't want to include in the new dataframe\n",
    "sel_data = data[sel_col]\n",
    "print(sel_data.columns)"
   ]
  },
  {
   "cell_type": "code",
   "execution_count": 123,
   "id": "cf85bf2a",
   "metadata": {},
   "outputs": [
    {
     "data": {
      "text/html": [
       "<div>\n",
       "<style scoped>\n",
       "    .dataframe tbody tr th:only-of-type {\n",
       "        vertical-align: middle;\n",
       "    }\n",
       "\n",
       "    .dataframe tbody tr th {\n",
       "        vertical-align: top;\n",
       "    }\n",
       "\n",
       "    .dataframe thead th {\n",
       "        text-align: right;\n",
       "    }\n",
       "</style>\n",
       "<table border=\"1\" class=\"dataframe\">\n",
       "  <thead>\n",
       "    <tr style=\"text-align: right;\">\n",
       "      <th></th>\n",
       "      <th>ra</th>\n",
       "      <th>dec</th>\n",
       "      <th>pmra</th>\n",
       "      <th>pmdec</th>\n",
       "      <th>parallax</th>\n",
       "      <th>bp_rp</th>\n",
       "      <th>phot_g_mean_mag</th>\n",
       "    </tr>\n",
       "  </thead>\n",
       "  <tbody>\n",
       "    <tr>\n",
       "      <th>0</th>\n",
       "      <td>55.655919</td>\n",
       "      <td>24.075143</td>\n",
       "      <td>1.606233</td>\n",
       "      <td>1.122345</td>\n",
       "      <td>0.135407</td>\n",
       "      <td>1.314144</td>\n",
       "      <td>20.483800</td>\n",
       "    </tr>\n",
       "    <tr>\n",
       "      <th>1</th>\n",
       "      <td>55.658311</td>\n",
       "      <td>24.104435</td>\n",
       "      <td>3.740004</td>\n",
       "      <td>1.797421</td>\n",
       "      <td>-3.836704</td>\n",
       "      <td>2.195143</td>\n",
       "      <td>20.756730</td>\n",
       "    </tr>\n",
       "    <tr>\n",
       "      <th>2</th>\n",
       "      <td>55.679300</td>\n",
       "      <td>24.107571</td>\n",
       "      <td>4.130701</td>\n",
       "      <td>-1.422831</td>\n",
       "      <td>0.645027</td>\n",
       "      <td>1.806950</td>\n",
       "      <td>18.796360</td>\n",
       "    </tr>\n",
       "    <tr>\n",
       "      <th>3</th>\n",
       "      <td>55.678330</td>\n",
       "      <td>24.092589</td>\n",
       "      <td>116.924054</td>\n",
       "      <td>56.468247</td>\n",
       "      <td>2.371769</td>\n",
       "      <td>1.404465</td>\n",
       "      <td>15.463922</td>\n",
       "    </tr>\n",
       "    <tr>\n",
       "      <th>4</th>\n",
       "      <td>55.679168</td>\n",
       "      <td>24.101278</td>\n",
       "      <td>NaN</td>\n",
       "      <td>NaN</td>\n",
       "      <td>NaN</td>\n",
       "      <td>1.753218</td>\n",
       "      <td>20.233032</td>\n",
       "    </tr>\n",
       "  </tbody>\n",
       "</table>\n",
       "</div>"
      ],
      "text/plain": [
       "          ra        dec        pmra      pmdec  parallax     bp_rp  \\\n",
       "0  55.655919  24.075143    1.606233   1.122345  0.135407  1.314144   \n",
       "1  55.658311  24.104435    3.740004   1.797421 -3.836704  2.195143   \n",
       "2  55.679300  24.107571    4.130701  -1.422831  0.645027  1.806950   \n",
       "3  55.678330  24.092589  116.924054  56.468247  2.371769  1.404465   \n",
       "4  55.679168  24.101278         NaN        NaN       NaN  1.753218   \n",
       "\n",
       "   phot_g_mean_mag  \n",
       "0        20.483800  \n",
       "1        20.756730  \n",
       "2        18.796360  \n",
       "3        15.463922  \n",
       "4        20.233032  "
      ]
     },
     "execution_count": 123,
     "metadata": {},
     "output_type": "execute_result"
    }
   ],
   "source": [
    "sel_data.head()"
   ]
  },
  {
   "cell_type": "code",
   "execution_count": 124,
   "id": "a50feaa0",
   "metadata": {},
   "outputs": [
    {
     "data": {
      "text/plain": [
       "array([False,  True])"
      ]
     },
     "execution_count": 124,
     "metadata": {},
     "output_type": "execute_result"
    }
   ],
   "source": [
    "np.unique(sel_data.isna())"
   ]
  },
  {
   "cell_type": "code",
   "execution_count": 90,
   "id": "629f9a06",
   "metadata": {},
   "outputs": [
    {
     "data": {
      "text/plain": [
       "(23712, 10)"
      ]
     },
     "execution_count": 90,
     "metadata": {},
     "output_type": "execute_result"
    }
   ],
   "source": [
    "c_data = sel_data.dropna(subset= ['pmra', 'pmdec', 'parallax']).reset_index()\n",
    "np.shape(c_data)"
   ]
  },
  {
   "cell_type": "code",
   "execution_count": 125,
   "id": "07719c2a",
   "metadata": {},
   "outputs": [
    {
     "data": {
      "text/plain": [
       "(23538, 8)"
      ]
     },
     "execution_count": 125,
     "metadata": {},
     "output_type": "execute_result"
    }
   ],
   "source": [
    "c_data = sel_data.dropna(subset= ['ra', 'dec', 'pmra', 'pmdec', 'parallax', 'bp_rp', 'phot_g_mean_mag']).reset_index()\n",
    "np.shape(c_data)"
   ]
  },
  {
   "cell_type": "code",
   "execution_count": 126,
   "id": "74f9b828",
   "metadata": {},
   "outputs": [
    {
     "data": {
      "text/plain": [
       "array([False])"
      ]
     },
     "execution_count": 126,
     "metadata": {},
     "output_type": "execute_result"
    }
   ],
   "source": [
    "np.unique(c_data[['pmra', 'pmdec', 'parallax']].isna())"
   ]
  },
  {
   "cell_type": "code",
   "execution_count": 127,
   "id": "09267b12",
   "metadata": {},
   "outputs": [],
   "source": [
    "c_data = c_data[(c_data['parallax'] > 0.0)].reset_index(drop=True)\n",
    "df = c_data.to_numpy().astype('float32', copy = False) # New data frame to fit"
   ]
  },
  {
   "cell_type": "code",
   "execution_count": 128,
   "id": "713559c9",
   "metadata": {},
   "outputs": [
    {
     "data": {
      "text/plain": [
       "Index(['index', 'ra', 'dec', 'pmra', 'pmdec', 'parallax', 'bp_rp',\n",
       "       'phot_g_mean_mag'],\n",
       "      dtype='object')"
      ]
     },
     "execution_count": 128,
     "metadata": {},
     "output_type": "execute_result"
    }
   ],
   "source": [
    "c_data.columns"
   ]
  },
  {
   "cell_type": "code",
   "execution_count": 129,
   "id": "33fe74d3",
   "metadata": {},
   "outputs": [
    {
     "data": {
      "text/plain": [
       "array([-1157.43444214,  -410.09083125,  -232.05330202, ...,\n",
       "       27535.        , 27536.        , 27537.        ])"
      ]
     },
     "execution_count": 129,
     "metadata": {},
     "output_type": "execute_result"
    }
   ],
   "source": [
    "np.unique(c_data)"
   ]
  },
  {
   "cell_type": "code",
   "execution_count": 130,
   "id": "e8b46dcf",
   "metadata": {},
   "outputs": [
    {
     "data": {
      "text/plain": [
       "(19962, 8)"
      ]
     },
     "execution_count": 130,
     "metadata": {},
     "output_type": "execute_result"
    }
   ],
   "source": [
    "np.shape(df)"
   ]
  },
  {
   "cell_type": "code",
   "execution_count": 131,
   "id": "aa679a1c",
   "metadata": {},
   "outputs": [
    {
     "data": {
      "text/plain": [
       "<matplotlib.collections.PathCollection at 0x295261b0a30>"
      ]
     },
     "execution_count": 131,
     "metadata": {},
     "output_type": "execute_result"
    },
    {
     "data": {
      "image/png": "[encoded data removed]",
      "text/plain": [
       "<Figure size 432x288 with 1 Axes>"
      ]
     },
     "metadata": {
      "needs_background": "light"
     },
     "output_type": "display_data"
    }
   ],
   "source": [
    "plt.scatter(c_data['ra'],c_data['dec'], marker = '.')"
   ]
  },
  {
   "cell_type": "code",
   "execution_count": 132,
   "id": "040003aa",
   "metadata": {},
   "outputs": [
    {
     "data": {
      "text/plain": [
       "(-100.0, 150.0)"
      ]
     },
     "execution_count": 132,
     "metadata": {},
     "output_type": "execute_result"
    },
    {
     "data": {
      "image/png": "[encoded data removed]",
      "text/plain": [
       "<Figure size 432x288 with 1 Axes>"
      ]
     },
     "metadata": {
      "needs_background": "light"
     },
     "output_type": "display_data"
    }
   ],
   "source": [
    "plt.scatter(c_data['pmra'],c_data['pmdec'], marker = '.')\n",
    "plt.ylim(-100,100)\n",
    "plt.xlim(-100,150)"
   ]
  },
  {
   "cell_type": "code",
   "execution_count": 133,
   "id": "aa8c264b",
   "metadata": {},
   "outputs": [
    {
     "data": {
      "image/png": "[encoded data removed]",
      "text/plain": [
       "<Figure size 432x288 with 1 Axes>"
      ]
     },
     "metadata": {
      "needs_background": "light"
     },
     "output_type": "display_data"
    }
   ],
   "source": [
    "plt.scatter(c_data['bp_rp'],c_data['phot_g_mean_mag'], marker = '.')\n",
    "ax = plt.gca()\n",
    "ax.invert_yaxis()"
   ]
  },
  {
   "cell_type": "code",
   "execution_count": 134,
   "id": "4a1a155f",
   "metadata": {},
   "outputs": [
    {
     "data": {
      "text/plain": [
       "(19962, 8)"
      ]
     },
     "execution_count": 134,
     "metadata": {},
     "output_type": "execute_result"
    }
   ],
   "source": [
    "sts_data = StandardScaler().fit(df)\n",
    "std_df = sts_data.transform(df)\n",
    "np.shape(std_df)"
   ]
  },
  {
   "cell_type": "code",
   "execution_count": 135,
   "id": "550e4752",
   "metadata": {},
   "outputs": [
    {
     "name": "stdout",
     "output_type": "stream",
     "text": [
      "[[-1.743853   -2.0368407  -0.13875684 ... -0.67270947 -0.4786344\n",
      "   1.0908568 ]\n",
      " [-1.7436019  -1.9945738  -0.07383434 ... -0.33894792  0.37948886\n",
      "   0.28581014]\n",
      " [-1.7434764  -1.996332   -0.10383059 ...  0.7919326  -0.32135895\n",
      "  -1.3040341 ]\n",
      " ...\n",
      " [ 1.7117816  -0.3970879   1.9061317  ... -0.06190294  0.27699777\n",
      "   1.1348516 ]\n",
      " [ 1.7119071  -0.4273228   1.8945609  ... -0.69744456 -0.9416228\n",
      "   1.0489348 ]\n",
      " [ 1.7120327  -0.43596923  1.8974975  ...  0.1609558   1.449921\n",
      "  -0.01799564]]\n"
     ]
    }
   ],
   "source": [
    "print(std_df)"
   ]
  },
  {
   "cell_type": "code",
   "execution_count": 136,
   "id": "c61cc23a",
   "metadata": {},
   "outputs": [
    {
     "data": {
      "text/plain": [
       "(19962, 8)"
      ]
     },
     "execution_count": 136,
     "metadata": {},
     "output_type": "execute_result"
    }
   ],
   "source": [
    "std_df = std_df\n",
    "np.shape(std_df)"
   ]
  },
  {
   "cell_type": "code",
   "execution_count": 137,
   "id": "bd50e508",
   "metadata": {},
   "outputs": [
    {
     "data": {
      "text/plain": [
       "array([False])"
      ]
     },
     "execution_count": 137,
     "metadata": {},
     "output_type": "execute_result"
    }
   ],
   "source": [
    "np.unique(np.isnan(std_df))"
   ]
  },
  {
   "cell_type": "code",
   "execution_count": 138,
   "id": "d63dce6a",
   "metadata": {},
   "outputs": [
    {
     "data": {
      "text/plain": [
       "(array([], dtype=int64), array([], dtype=int64))"
      ]
     },
     "execution_count": 138,
     "metadata": {},
     "output_type": "execute_result"
    }
   ],
   "source": [
    "np.where(np.isnan(std_df)== True)"
   ]
  },
  {
   "cell_type": "code",
   "execution_count": 110,
   "id": "bf9a2772",
   "metadata": {},
   "outputs": [],
   "source": [
    "clust_db = DBSCAN(eps=1, min_samples=2).fit(std_df) # Using the dataset from above"
   ]
  },
  {
   "cell_type": "code",
   "execution_count": 139,
   "id": "cac16f2c",
   "metadata": {},
   "outputs": [
    {
     "name": "stdout",
     "output_type": "stream",
     "text": [
      "19962\n",
      "[ -1   0   1   2   3   4   5   6   7   8   9  10  11  12  13  14  15  16\n",
      "  17  18  19  20  21  22  23  24  25  26  27  28  29  30  31  32  33  34\n",
      "  35  36  37  38  39  40  41  42  43  44  45  46  47  48  49  50  51  52\n",
      "  53  54  55  56  57  58  59  60  61  62  63  64  65  66  67  68  69  70\n",
      "  71  72  73  74  75  76  77  78  79  80  81  82  83  84  85  86  87  88\n",
      "  89  90  91  92  93  94  95  96  97  98  99 100 101 102 103 104 105 106\n",
      " 107 108 109 110 111 112 113 114 115 116 117 118 119 120 121 122 123 124\n",
      " 125 126 127 128 129 130 131 132 133 134 135 136 137 138 139 140 141 142\n",
      " 143 144 145 146 147 148 149 150 151 152 153 154 155 156 157 158 159 160]\n"
     ]
    },
    {
     "data": {
      "image/png": "[encoded data removed]",
      "text/plain": [
       "<Figure size 432x288 with 1 Axes>"
      ]
     },
     "metadata": {
      "needs_background": "light"
     },
     "output_type": "display_data"
    }
   ],
   "source": [
    "arr_label = np.array(clust_db.labels_)\n",
    "print(len(arr_label))\n",
    "label_cts = np.unique(arr_label)\n",
    "plt.hist(label_cts, bins = 100)\n",
    "print(label_cts)"
   ]
  },
  {
   "cell_type": "code",
   "execution_count": 140,
   "id": "84496a32",
   "metadata": {},
   "outputs": [
    {
     "name": "stdout",
     "output_type": "stream",
     "text": [
      "   index         ra        dec        pmra      pmdec  parallax     bp_rp  \\\n",
      "0      0  55.655919  24.075143    1.606233   1.122345  0.135407  1.314144   \n",
      "1      2  55.679300  24.107571    4.130701  -1.422831  0.645027  1.806950   \n",
      "2      3  55.678330  24.092589  116.924054  56.468247  2.371769  1.404465   \n",
      "3      5  55.691564  24.105151    0.428834  -2.289468  0.315051  1.462992   \n",
      "4      6  55.686891  24.116575   -9.090034 -34.757692  2.295703  2.396061   \n",
      "\n",
      "   phot_g_mean_mag  labels  \n",
      "0        20.483800       0  \n",
      "1        18.796360       0  \n",
      "2        15.463922      -1  \n",
      "3        18.857517       0  \n",
      "4        18.123705      -1  \n"
     ]
    }
   ],
   "source": [
    "c_data['labels'] = arr_label\n",
    "print(c_data.head())"
   ]
  },
  {
   "cell_type": "code",
   "execution_count": 141,
   "id": "a363fa40",
   "metadata": {},
   "outputs": [],
   "source": [
    "dbc_data = c_data[c_data['labels']!=-1]"
   ]
  },
  {
   "cell_type": "code",
   "execution_count": 144,
   "id": "8b7a4f7f",
   "metadata": {},
   "outputs": [
    {
     "data": {
      "text/plain": [
       "(array([-20.,   0.,  20.,  40.,  60.,  80., 100., 120., 140., 160., 180.]),\n",
       " [Text(0, 0, ''),\n",
       "  Text(0, 0, ''),\n",
       "  Text(0, 0, ''),\n",
       "  Text(0, 0, ''),\n",
       "  Text(0, 0, ''),\n",
       "  Text(0, 0, ''),\n",
       "  Text(0, 0, ''),\n",
       "  Text(0, 0, ''),\n",
       "  Text(0, 0, ''),\n",
       "  Text(0, 0, ''),\n",
       "  Text(0, 0, '')])"
      ]
     },
     "execution_count": 144,
     "metadata": {},
     "output_type": "execute_result"
    },
    {
     "data": {
      "image/png": "[encoded data removed]",
      "text/plain": [
       "<Figure size 432x288 with 1 Axes>"
      ]
     },
     "metadata": {
      "needs_background": "light"
     },
     "output_type": "display_data"
    }
   ],
   "source": [
    "plt.hist(dbc_data['labels'], bins = 30)\n",
    "plt.xticks()"
   ]
  },
  {
   "cell_type": "code",
   "execution_count": 145,
   "id": "79a17205",
   "metadata": {},
   "outputs": [
    {
     "data": {
      "text/plain": [
       "(array([  6.,   2.,   3.,   3.,   1.,   8.,   3.,   2.,   7.,   0.,   4.,\n",
       "          4.,   7.,   6.,   6.,   6.,   3.,   6.,  10.,  10.,   8.,   7.,\n",
       "         10.,   5.,   8.,   7.,  10.,   7.,   9.,   4.,  11.,   3.,   9.,\n",
       "         12.,   6.,   3.,  10.,   8.,   5.,   7.,   5.,   4.,   2.,   2.,\n",
       "          5.,   4.,   5.,   1.,   2.,   2.,   1.,   3.,   0.,   1.,   0.,\n",
       "          1.,   1.,   2.,   1.,   0.,   1.,   0.,   2.,   1.,   5.,   0.,\n",
       "          2.,   1.,   0.,   0.,   2.,   0.,   1.,   0.,   0.,   0.,   1.,\n",
       "          1.,   1.,   3.,   3.,   6.,   6.,  10.,  12.,  22.,  63.,  79.,\n",
       "        104.,  66.,  34.,  14.,   8.,   9.,   5.,   3.,   5.,   1.,   2.,\n",
       "          1.]),\n",
       " array([3.58836979e-03, 8.70093376e-02, 1.70430305e-01, 2.53851273e-01,\n",
       "        3.37272241e-01, 4.20693209e-01, 5.04114177e-01, 5.87535144e-01,\n",
       "        6.70956112e-01, 7.54377080e-01, 8.37798048e-01, 9.21219016e-01,\n",
       "        1.00463998e+00, 1.08806095e+00, 1.17148192e+00, 1.25490289e+00,\n",
       "        1.33832385e+00, 1.42174482e+00, 1.50516579e+00, 1.58858676e+00,\n",
       "        1.67200773e+00, 1.75542869e+00, 1.83884966e+00, 1.92227063e+00,\n",
       "        2.00569160e+00, 2.08911257e+00, 2.17253353e+00, 2.25595450e+00,\n",
       "        2.33937547e+00, 2.42279644e+00, 2.50621740e+00, 2.58963837e+00,\n",
       "        2.67305934e+00, 2.75648031e+00, 2.83990128e+00, 2.92332224e+00,\n",
       "        3.00674321e+00, 3.09016418e+00, 3.17358515e+00, 3.25700611e+00,\n",
       "        3.34042708e+00, 3.42384805e+00, 3.50726902e+00, 3.59068999e+00,\n",
       "        3.67411095e+00, 3.75753192e+00, 3.84095289e+00, 3.92437386e+00,\n",
       "        4.00779482e+00, 4.09121579e+00, 4.17463676e+00, 4.25805773e+00,\n",
       "        4.34147870e+00, 4.42489966e+00, 4.50832063e+00, 4.59174160e+00,\n",
       "        4.67516257e+00, 4.75858354e+00, 4.84200450e+00, 4.92542547e+00,\n",
       "        5.00884644e+00, 5.09226741e+00, 5.17568837e+00, 5.25910934e+00,\n",
       "        5.34253031e+00, 5.42595128e+00, 5.50937225e+00, 5.59279321e+00,\n",
       "        5.67621418e+00, 5.75963515e+00, 5.84305612e+00, 5.92647708e+00,\n",
       "        6.00989805e+00, 6.09331902e+00, 6.17673999e+00, 6.26016096e+00,\n",
       "        6.34358192e+00, 6.42700289e+00, 6.51042386e+00, 6.59384483e+00,\n",
       "        6.67726579e+00, 6.76068676e+00, 6.84410773e+00, 6.92752870e+00,\n",
       "        7.01094967e+00, 7.09437063e+00, 7.17779160e+00, 7.26121257e+00,\n",
       "        7.34463354e+00, 7.42805450e+00, 7.51147547e+00, 7.59489644e+00,\n",
       "        7.67831741e+00, 7.76173838e+00, 7.84515934e+00, 7.92858031e+00,\n",
       "        8.01200128e+00, 8.09542225e+00, 8.17884322e+00, 8.26226418e+00,\n",
       "        8.34568515e+00]),\n",
       " <BarContainer object of 100 artists>)"
      ]
     },
     "execution_count": 145,
     "metadata": {},
     "output_type": "execute_result"
    },
    {
     "data": {
      "image/png": "[encoded data removed]",
      "text/plain": [
       "<Figure size 432x288 with 1 Axes>"
      ]
     },
     "metadata": {
      "needs_background": "light"
     },
     "output_type": "display_data"
    }
   ],
   "source": [
    "sel_cluster = dbc_data[(dbc_data['labels'] != 15) & (dbc_data['labels'] >= 15)]\n",
    "plt.hist(sel_cluster['parallax'], bins =100)"
   ]
  },
  {
   "cell_type": "code",
   "execution_count": 146,
   "id": "9fc8439d",
   "metadata": {},
   "outputs": [],
   "source": [
    "sel_cluster = sel_cluster[(sel_cluster['parallax']>=6)&(sel_cluster['parallax']<=8)] # Clean the data further by restricting the parallax (not so scientific way)"
   ]
  },
  {
   "cell_type": "code",
   "execution_count": 147,
   "id": "fb9599a1",
   "metadata": {},
   "outputs": [
    {
     "data": {
      "text/plain": [
       "Text(0.5, 1.0, 'HR Diagram of Pleiades')"
      ]
     },
     "execution_count": 147,
     "metadata": {},
     "output_type": "execute_result"
    },
    {
     "data": {
      "image/png": "[encoded data removed]",
      "text/plain": [
       "<Figure size 432x288 with 1 Axes>"
      ]
     },
     "metadata": {
      "needs_background": "light"
     },
     "output_type": "display_data"
    }
   ],
   "source": [
    "plt.scatter(c_data['bp_rp'],c_data['phot_g_mean_mag'], color = 'grey', marker = '.', label = 'Fore/Back-ground Stars')\n",
    "plt.scatter(sel_cluster['bp_rp'], sel_cluster['phot_g_mean_mag'], label = 'Cluster using dbscan', color = 'red')\n",
    "ax = plt.gca()\n",
    "ax.invert_yaxis()\n",
    "plt.legend()\n",
    "plt.title('HR Diagram of Pleiades')"
   ]
  },
  {
   "cell_type": "markdown",
   "id": "d5698b5b",
   "metadata": {},
   "source": [
    "Somehow I managed to show the HR Diagram despite not very clean"
   ]
  },
  {
   "cell_type": "markdown",
   "id": "c74c3eb8",
   "metadata": {},
   "source": [
    "From the diagram, we can see that Pleiades is an open cluster system with main sequence stars (red)."
   ]
  },
  {
   "cell_type": "code",
   "execution_count": null,
   "id": "cb16a00b",
   "metadata": {},
   "outputs": [],
   "source": []
  }
 ],
 "metadata": {
  "kernelspec": {
   "display_name": "Python 3",
   "language": "python",
   "name": "python3"
  },
  "language_info": {
   "codemirror_mode": {
    "name": "ipython",
    "version": 3
   },
   "file_extension": ".py",
   "mimetype": "text/x-python",
   "name": "python",
   "nbconvert_exporter": "python",
   "pygments_lexer": "ipython3",
   "version": "3.8.8"
  }
 },
 "nbformat": 4,
 "nbformat_minor": 5
}
